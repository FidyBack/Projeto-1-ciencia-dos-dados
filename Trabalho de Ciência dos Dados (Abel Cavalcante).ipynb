{
 "cells": [
  {
   "cell_type": "markdown",
   "metadata": {},
   "source": [
    "# Trabalho de Ciência dos Dados\n"
   ]
  },
  {
   "cell_type": "markdown",
   "metadata": {},
   "source": [
    "** Nome:** Abel Cavalcante de Andrade Neto"
   ]
  },
  {
   "cell_type": "markdown",
   "metadata": {},
   "source": [
    "## Introdução"
   ]
  },
  {
   "cell_type": "markdown",
   "metadata": {},
   "source": [
    "Visando compreender a interação do IDH com fatores como o nível de fertilidade e o número de idosos de um país, foi feito o questionamento:\n",
    "*Como o nível de fertilidade e a porcentagem de idosos se relacionam com o IDH de um país?*"
   ]
  },
  {
   "cell_type": "markdown",
   "metadata": {},
   "source": [
    "## Análises e explicação dos resultados"
   ]
  },
  {
   "cell_type": "markdown",
   "metadata": {},
   "source": [
    "### Importações e leituras"
   ]
  },
  {
   "cell_type": "markdown",
   "metadata": {},
   "source": [
    "O programa importa as bibliotecas necessárias para essa análise, além de ler os arquivos em questão:"
   ]
  },
  {
   "cell_type": "code",
   "execution_count": 2,
   "metadata": {},
   "outputs": [],
   "source": [
    "%matplotlib inline\n",
    "import pandas as pd\n",
    "import matplotlib.pyplot as plt\n",
    "\n",
    "idh = pd.read_excel('Indicator_HDI.xlsx')\n",
    "fertility = pd.read_excel('indicator undata total_fertility.xlsx')\n",
    "seniors = pd.read_excel('population_aged_60plus_years_both_sexes_percent.xlsx')"
   ]
  },
  {
   "cell_type": "markdown",
   "metadata": {},
   "source": [
    "### Filtrando o Ano"
   ]
  },
  {
   "cell_type": "markdown",
   "metadata": {},
   "source": [
    "Devido à limitações dos próprios dados, o ano escolhido foi o de 2005:"
   ]
  },
  {
   "cell_type": "code",
   "execution_count": 3,
   "metadata": {},
   "outputs": [],
   "source": [
    "idh_5 = idh.loc[:, [\"HDI\", 2005]]\n",
    "fert_5 = fertility.loc[:, [\"Total fertility rate\", 2005]]\n",
    "seni_5 = seniors.loc[:, [\"geo\", 2005]]"
   ]
  },
  {
   "cell_type": "markdown",
   "metadata": {},
   "source": [
    "### Conversão de Índice"
   ]
  },
  {
   "cell_type": "markdown",
   "metadata": {},
   "source": [
    "Aqui, definimos o que servirá como índice em cada uma das tabelas:"
   ]
  },
  {
   "cell_type": "code",
   "execution_count": 4,
   "metadata": {},
   "outputs": [],
   "source": [
    "idh_index = idh_5.set_index('HDI')\n",
    "fert_index = fert_5.set_index('Total fertility rate')\n",
    "seni_index = seni_5.set_index('geo')"
   ]
  },
  {
   "cell_type": "markdown",
   "metadata": {},
   "source": [
    "### Remoção dos Países sem dados"
   ]
  },
  {
   "cell_type": "markdown",
   "metadata": {},
   "source": [
    "Removemos, por meio do comando *.dropna()*, os países que não possuem dados:"
   ]
  },
  {
   "cell_type": "code",
   "execution_count": 5,
   "metadata": {},
   "outputs": [],
   "source": [
    "idh_nan = idh_index.dropna()\n",
    "fert_nan = fert_index.dropna()\n",
    "seni_nan = seni_index.dropna()"
   ]
  },
  {
   "cell_type": "markdown",
   "metadata": {},
   "source": [
    "### Junção"
   ]
  },
  {
   "cell_type": "markdown",
   "metadata": {},
   "source": [
    "Assim, juntamos todos os dados em uma única tabela:"
   ]
  },
  {
   "cell_type": "code",
   "execution_count": 22,
   "metadata": {},
   "outputs": [
    {
     "data": {
      "text/html": [
       "<div>\n",
       "<style scoped>\n",
       "    .dataframe tbody tr th:only-of-type {\n",
       "        vertical-align: middle;\n",
       "    }\n",
       "\n",
       "    .dataframe tbody tr th {\n",
       "        vertical-align: top;\n",
       "    }\n",
       "\n",
       "    .dataframe thead th {\n",
       "        text-align: right;\n",
       "    }\n",
       "</style>\n",
       "<table border=\"1\" class=\"dataframe\">\n",
       "  <thead>\n",
       "    <tr style=\"text-align: right;\">\n",
       "      <th></th>\n",
       "      <th>2005_IDH</th>\n",
       "      <th>2005_Fertility Rate</th>\n",
       "      <th>2005_Amount of Elderly (%)</th>\n",
       "    </tr>\n",
       "  </thead>\n",
       "  <tbody>\n",
       "    <tr>\n",
       "      <th>Afghanistan</th>\n",
       "      <td>0.340</td>\n",
       "      <td>6.93</td>\n",
       "      <td>3.62</td>\n",
       "    </tr>\n",
       "    <tr>\n",
       "      <th>Albania</th>\n",
       "      <td>0.721</td>\n",
       "      <td>1.92</td>\n",
       "      <td>12.30</td>\n",
       "    </tr>\n",
       "    <tr>\n",
       "      <th>Algeria</th>\n",
       "      <td>0.667</td>\n",
       "      <td>2.51</td>\n",
       "      <td>7.04</td>\n",
       "    </tr>\n",
       "    <tr>\n",
       "      <th>Angola</th>\n",
       "      <td>0.445</td>\n",
       "      <td>6.66</td>\n",
       "      <td>3.71</td>\n",
       "    </tr>\n",
       "    <tr>\n",
       "      <th>Argentina</th>\n",
       "      <td>0.765</td>\n",
       "      <td>2.29</td>\n",
       "      <td>13.80</td>\n",
       "    </tr>\n",
       "  </tbody>\n",
       "</table>\n",
       "</div>"
      ],
      "text/plain": [
       "             2005_IDH  2005_Fertility Rate  2005_Amount of Elderly (%)\n",
       "Afghanistan     0.340                 6.93                        3.62\n",
       "Albania         0.721                 1.92                       12.30\n",
       "Algeria         0.667                 2.51                        7.04\n",
       "Angola          0.445                 6.66                        3.71\n",
       "Argentina       0.765                 2.29                       13.80"
      ]
     },
     "execution_count": 22,
     "metadata": {},
     "output_type": "execute_result"
    }
   ],
   "source": [
    "idh_fert = idh_nan.join(fert_nan, how=\"inner\", lsuffix=\"_IDH\", rsuffix=\"_Fertility\")\n",
    "everything = idh_fert.join(seni_nan, how=\"inner\")\n",
    "everything.columns = ['2005_IDH', '2005_Fertility Rate', '2005_Amount of Elderly (%)']\n",
    "\n",
    "everything.head()"
   ]
  },
  {
   "cell_type": "markdown",
   "metadata": {},
   "source": [
    "E ordenamos baseando-se no IDH:"
   ]
  },
  {
   "cell_type": "code",
   "execution_count": 7,
   "metadata": {
    "scrolled": true
   },
   "outputs": [
    {
     "data": {
      "text/html": [
       "<div>\n",
       "<style scoped>\n",
       "    .dataframe tbody tr th:only-of-type {\n",
       "        vertical-align: middle;\n",
       "    }\n",
       "\n",
       "    .dataframe tbody tr th {\n",
       "        vertical-align: top;\n",
       "    }\n",
       "\n",
       "    .dataframe thead th {\n",
       "        text-align: right;\n",
       "    }\n",
       "</style>\n",
       "<table border=\"1\" class=\"dataframe\">\n",
       "  <thead>\n",
       "    <tr style=\"text-align: right;\">\n",
       "      <th></th>\n",
       "      <th>2005_IDH</th>\n",
       "      <th>2005_Fertility Rate</th>\n",
       "      <th>2005_Amount of Elderly (%)</th>\n",
       "    </tr>\n",
       "  </thead>\n",
       "  <tbody>\n",
       "    <tr>\n",
       "      <th>Congo, Dem. Rep.</th>\n",
       "      <td>0.260</td>\n",
       "      <td>6.73</td>\n",
       "      <td>4.73</td>\n",
       "    </tr>\n",
       "    <tr>\n",
       "      <th>Niger</th>\n",
       "      <td>0.265</td>\n",
       "      <td>7.62</td>\n",
       "      <td>4.06</td>\n",
       "    </tr>\n",
       "    <tr>\n",
       "      <th>Burundi</th>\n",
       "      <td>0.267</td>\n",
       "      <td>6.73</td>\n",
       "      <td>4.21</td>\n",
       "    </tr>\n",
       "    <tr>\n",
       "      <th>Mozambique</th>\n",
       "      <td>0.285</td>\n",
       "      <td>5.67</td>\n",
       "      <td>4.83</td>\n",
       "    </tr>\n",
       "    <tr>\n",
       "      <th>Liberia</th>\n",
       "      <td>0.300</td>\n",
       "      <td>5.46</td>\n",
       "      <td>4.90</td>\n",
       "    </tr>\n",
       "  </tbody>\n",
       "</table>\n",
       "</div>"
      ],
      "text/plain": [
       "                  2005_IDH  2005_Fertility Rate  2005_Amount of Elderly (%)\n",
       "Congo, Dem. Rep.     0.260                 6.73                        4.73\n",
       "Niger                0.265                 7.62                        4.06\n",
       "Burundi              0.267                 6.73                        4.21\n",
       "Mozambique           0.285                 5.67                        4.83\n",
       "Liberia              0.300                 5.46                        4.90"
      ]
     },
     "execution_count": 7,
     "metadata": {},
     "output_type": "execute_result"
    }
   ],
   "source": [
    "everything.sort_values('2005_IDH', inplace = True)\n",
    "\n",
    "everything.head()"
   ]
  },
  {
   "cell_type": "markdown",
   "metadata": {},
   "source": [
    "## Gráficos"
   ]
  },
  {
   "cell_type": "markdown",
   "metadata": {},
   "source": [
    "Assim, podemos representar esses dados por meio de gráficos, para facilitar a visualização:"
   ]
  },
  {
   "cell_type": "markdown",
   "metadata": {},
   "source": [
    "Começando com a Quantidade de Idosos:"
   ]
  },
  {
   "cell_type": "code",
   "execution_count": 8,
   "metadata": {
    "scrolled": true
   },
   "outputs": [
    {
     "data": {
      "text/plain": [
       "<matplotlib.axes._subplots.AxesSubplot at 0x2350bf72dd8>"
      ]
     },
     "execution_count": 8,
     "metadata": {},
     "output_type": "execute_result"
    },
    {
     "data": {
      "image/png": "[encoded data removed]",
      "text/plain": [
       "<Figure size 432x288 with 1 Axes>"
      ]
     },
     "metadata": {},
     "output_type": "display_data"
    }
   ],
   "source": [
    "everything.plot.scatter(x='2005_IDH',y='2005_Amount of Elderly (%)', logy=True)"
   ]
  },
  {
   "cell_type": "markdown",
   "metadata": {},
   "source": [
    "Fazemos a correlação:"
   ]
  },
  {
   "cell_type": "code",
   "execution_count": 9,
   "metadata": {},
   "outputs": [
    {
     "data": {
      "text/plain": [
       "0.7483393477685291"
      ]
     },
     "execution_count": 9,
     "metadata": {},
     "output_type": "execute_result"
    }
   ],
   "source": [
    "everything['2005_IDH'].corr(everything['2005_Amount of Elderly (%)'])"
   ]
  },
  {
   "cell_type": "markdown",
   "metadata": {},
   "source": [
    "E adicionamos uma reta ao gráfico"
   ]
  },
  {
   "cell_type": "code",
   "execution_count": 10,
   "metadata": {},
   "outputs": [],
   "source": [
    "def reta_am(dados_x, dados_y):    \n",
    "    a = dados_y.cov(dados_x) / dados_x.var()\n",
    "    b = dados_y.mean() - a*dados_x.mean()\n",
    "    \n",
    "    fig = plt.figure(figsize=(8, 6))\n",
    "    plt.scatter(dados_x, dados_y, c='blue', alpha=0.8)\n",
    "    plt.title('IDH vesrsus Amount of Elderly (2005)')\n",
    "    plt.xlabel('IDH')\n",
    "    plt.ylabel('Amount of Elderly (%)')\n",
    "    \n",
    "    plt.plot((dados_x.min(), dados_x.max()), (a*dados_x.min()+b, a*dados_x.max()+b), color='red')\n",
    " \n",
    "    plt.tight_layout()\n",
    "    plt.show()\n",
    "    \n",
    "    print('Coeficiente linear:', b)\n",
    "    print('Coeficiente angular:', a)"
   ]
  },
  {
   "cell_type": "code",
   "execution_count": 11,
   "metadata": {},
   "outputs": [
    {
     "data": {
      "image/png": "[encoded data removed]",
      "text/plain": [
       "<Figure size 576x432 with 1 Axes>"
      ]
     },
     "metadata": {},
     "output_type": "display_data"
    },
    {
     "name": "stdout",
     "output_type": "stream",
     "text": [
      "Coeficiente linear: -6.76333389305708\n",
      "Coeficiente angular: 26.724546035656715\n"
     ]
    }
   ],
   "source": [
    "reta_am(everything['2005_IDH'], everything['2005_Amount of Elderly (%)'])"
   ]
  },
  {
   "cell_type": "markdown",
   "metadata": {},
   "source": [
    "Repetindo, assim, o mesmo processo para os dados de Fertilidade:"
   ]
  },
  {
   "cell_type": "code",
   "execution_count": 12,
   "metadata": {},
   "outputs": [
    {
     "data": {
      "image/png": "[encoded data removed]",
      "text/plain": [
       "<Figure size 432x288 with 1 Axes>"
      ]
     },
     "metadata": {},
     "output_type": "display_data"
    }
   ],
   "source": [
    "everything.plot.scatter(x='2005_IDH', y='2005_Fertility Rate', logy=True)"
   ]
  },
  {
   "cell_type": "code",
   "execution_count": 13,
   "metadata": {
    "scrolled": true
   },
   "outputs": [
    {
     "data": {
      "text/plain": [
       "-0.8634699642595323"
      ]
     },
     "execution_count": 13,
     "metadata": {},
     "output_type": "execute_result"
    }
   ],
   "source": [
    "everything['2005_IDH'].corr(everything['2005_Fertility Rate'])"
   ]
  },
  {
   "cell_type": "code",
   "execution_count": 14,
   "metadata": {},
   "outputs": [],
   "source": [
    "def reta_fer(dados_x, dados_y):    \n",
    "    a = dados_y.cov(dados_x) / dados_x.var()\n",
    "    b = dados_y.mean() - a*dados_x.mean()\n",
    "    \n",
    "    fig = plt.figure(figsize=(8, 6))\n",
    "    plt.scatter(dados_x, dados_y, c='blue', alpha=0.8)\n",
    "    plt.title('IDH vesrsus Fertility (2005)')\n",
    "    plt.xlabel('IDH')\n",
    "    plt.ylabel('Fertility')\n",
    "     \n",
    "    plt.plot((dados_x.min(), dados_x.max()), (a*dados_x.min()+b, a*dados_x.max()+b), color='red')\n",
    " \n",
    "    plt.tight_layout()\n",
    "    plt.show()\n",
    "    \n",
    "    print('Coeficiente linear:', b)\n",
    "    print('Coeficiente angular:', a)"
   ]
  },
  {
   "cell_type": "code",
   "execution_count": 15,
   "metadata": {},
   "outputs": [
    {
     "data": {
      "image/png": "[encoded data removed]",
      "text/plain": [
       "<Figure size 576x432 with 1 Axes>"
      ]
     },
     "metadata": {},
     "output_type": "display_data"
    },
    {
     "name": "stdout",
     "output_type": "stream",
     "text": [
      "Coeficiente linear: 8.112727128619099\n",
      "Coeficiente angular: -7.90895983867094\n"
     ]
    }
   ],
   "source": [
    "reta_fer(everything['2005_IDH'], everything['2005_Fertility Rate'])"
   ]
  },
  {
   "cell_type": "markdown",
   "metadata": {},
   "source": [
    "## Conclusão"
   ]
  },
  {
   "cell_type": "markdown",
   "metadata": {},
   "source": [
    "Com esses dados, foi possível observar uma clara relação entre o IDH e os parâmetros observados: A Fertilidade possui uma relação inversda clara quanto ao IDH, sendo que quanto maior o IDH, maior o nível de fertilidade, mas por quê?"
   ]
  },
  {
   "cell_type": "markdown",
   "metadata": {},
   "source": []
  },
  {
   "cell_type": "markdown",
   "metadata": {},
   "source": [
    "Se filtrarmos os sete países com IDH maior que 0.7 e agrupá-los a partir do número crescente da porcentagem de idosos, podemos ver quais são os países que apresentam esse comportamento anômalo:"
   ]
  },
  {
   "cell_type": "code",
   "execution_count": 24,
   "metadata": {},
   "outputs": [
    {
     "data": {
      "text/html": [
       "<div>\n",
       "<style scoped>\n",
       "    .dataframe tbody tr th:only-of-type {\n",
       "        vertical-align: middle;\n",
       "    }\n",
       "\n",
       "    .dataframe tbody tr th {\n",
       "        vertical-align: top;\n",
       "    }\n",
       "\n",
       "    .dataframe thead th {\n",
       "        text-align: right;\n",
       "    }\n",
       "</style>\n",
       "<table border=\"1\" class=\"dataframe\">\n",
       "  <thead>\n",
       "    <tr style=\"text-align: right;\">\n",
       "      <th></th>\n",
       "      <th>2005_IDH</th>\n",
       "      <th>2005_Fertility Rate</th>\n",
       "      <th>2005_Amount of Elderly (%)</th>\n",
       "    </tr>\n",
       "  </thead>\n",
       "  <tbody>\n",
       "    <tr>\n",
       "      <th>United Arab Emirates</th>\n",
       "      <td>0.807</td>\n",
       "      <td>2.15</td>\n",
       "      <td>1.69</td>\n",
       "    </tr>\n",
       "    <tr>\n",
       "      <th>Qatar</th>\n",
       "      <td>0.818</td>\n",
       "      <td>2.56</td>\n",
       "      <td>2.46</td>\n",
       "    </tr>\n",
       "    <tr>\n",
       "      <th>Bahrain</th>\n",
       "      <td>0.795</td>\n",
       "      <td>2.45</td>\n",
       "      <td>3.44</td>\n",
       "    </tr>\n",
       "    <tr>\n",
       "      <th>Kuwait</th>\n",
       "      <td>0.752</td>\n",
       "      <td>2.63</td>\n",
       "      <td>3.60</td>\n",
       "    </tr>\n",
       "    <tr>\n",
       "      <th>Saudi Arabia</th>\n",
       "      <td>0.746</td>\n",
       "      <td>3.23</td>\n",
       "      <td>4.45</td>\n",
       "    </tr>\n",
       "  </tbody>\n",
       "</table>\n",
       "</div>"
      ],
      "text/plain": [
       "                      2005_IDH  2005_Fertility Rate  \\\n",
       "United Arab Emirates     0.807                 2.15   \n",
       "Qatar                    0.818                 2.56   \n",
       "Bahrain                  0.795                 2.45   \n",
       "Kuwait                   0.752                 2.63   \n",
       "Saudi Arabia             0.746                 3.23   \n",
       "\n",
       "                      2005_Amount of Elderly (%)  \n",
       "United Arab Emirates                        1.69  \n",
       "Qatar                                       2.46  \n",
       "Bahrain                                     3.44  \n",
       "Kuwait                                      3.60  \n",
       "Saudi Arabia                                4.45  "
      ]
     },
     "execution_count": 24,
     "metadata": {},
     "output_type": "execute_result"
    }
   ],
   "source": [
    "everything[everything['2005_IDH'] > 0.7].sort_values(\"2005_Amount of Elderly (%)\").head()"
   ]
  },
  {
   "cell_type": "markdown",
   "metadata": {},
   "source": [
    "## Expandindo a observação"
   ]
  },
  {
   "cell_type": "markdown",
   "metadata": {},
   "source": [
    "Nós vimos como esses dados se relacionam no ano de 2005, mas será que isso perdura em outros anos?"
   ]
  },
  {
   "cell_type": "code",
   "execution_count": 31,
   "metadata": {},
   "outputs": [
    {
     "data": {
      "text/plain": [
       "<matplotlib.axes._subplots.AxesSubplot at 0x2350db6eeb8>"
      ]
     },
     "execution_count": 31,
     "metadata": {},
     "output_type": "execute_result"
    },
    {
     "data": {
      "image/png": "[encoded data removed]",
      "text/plain": [
       "<Figure size 432x288 with 1 Axes>"
      ]
     },
     "metadata": {},
     "output_type": "display_data"
    },
    {
     "data": {
      "image/png": "[encoded data removed]",
      "text/plain": [
       "<Figure size 432x288 with 1 Axes>"
      ]
     },
     "metadata": {},
     "output_type": "display_data"
    }
   ],
   "source": [
    "idh_0 = idh.loc[:, [\"HDI\", 2000]]\n",
    "fert_0 = fertility.loc[:, [\"Total fertility rate\", 2000]]\n",
    "seni_0 = seniors.loc[:, [\"geo\", 2000]]\n",
    "\n",
    "idh_0.set_index('HDI', inplace = True)\n",
    "fert_0.set_index('Total fertility rate', inplace = True)\n",
    "seni_0.set_index('geo', inplace = True)\n",
    "\n",
    "idh_0.dropna(inplace = True)\n",
    "fert_0.dropna(inplace = True)\n",
    "seni_0.dropna(inplace = True)\n",
    "\n",
    "idh_fert_0 = idh_0.join(fert_0, how=\"inner\", lsuffix=\"_IDH\", rsuffix=\"_Fertility\")\n",
    "juntion_2000 = idh_fert_0.join(seni_0, how=\"inner\", lsuffix=\"_IDH\", rsuffix=\"_Elderly\")\n",
    "juntion_2000.columns = ['2000_IDH', '2000_Fertility Rate', '2000_Amount of Elderly (%)']\n",
    "\n",
    "juntion_2000.plot.scatter(x='2000_IDH',y='2000_Amount of Elderly (%)', logy=True) and juntion_2000.plot.scatter(x='2000_IDH', y='2000_Fertility Rate', logy=True)"
   ]
  },
  {
   "cell_type": "code",
   "execution_count": null,
   "metadata": {},
   "outputs": [],
   "source": []
  }
 ],
 "metadata": {
  "kernelspec": {
   "display_name": "Python 3",
   "language": "python",
   "name": "python3"
  },
  "language_info": {
   "codemirror_mode": {
    "name": "ipython",
    "version": 3
   },
   "file_extension": ".py",
   "mimetype": "text/x-python",
   "name": "python",
   "nbconvert_exporter": "python",
   "pygments_lexer": "ipython3",
   "version": "3.6.5"
  }
 },
 "nbformat": 4,
 "nbformat_minor": 2
}
